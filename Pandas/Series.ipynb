{
 "cells": [
  {
   "cell_type": "markdown",
   "id": "f905d722-740e-4afb-945a-1252dde1e47c",
   "metadata": {},
   "source": [
    "# Pandas `Series`\n",
    "\n",
    "### A `Series` is a one-dimensional labeled `array` capable of holding any data type. The `axis labels` are collectively called the `index`."
   ]
  },
  {
   "cell_type": "markdown",
   "id": "44d5fa51-790d-45a5-a9f5-96258b3b7d8f",
   "metadata": {},
   "source": [
    "## Creating Series\n",
    "### There are multiple ways to create a `Pandas` `Series`:"
   ]
  },
  {
   "cell_type": "code",
   "execution_count": 1,
   "id": "e8d0a96a-049a-4279-97fb-7f7903c65599",
   "metadata": {},
   "outputs": [],
   "source": [
    "import numpy as np \n",
    "import pandas as pd "
   ]
  },
  {
   "cell_type": "markdown",
   "id": "29124773",
   "metadata": {},
   "source": [
    "#### 1. By `list`:  "
   ]
  },
  {
   "cell_type": "code",
   "execution_count": null,
   "id": "cb6f85f7-f477-4865-b3e9-4b148b39c475",
   "metadata": {},
   "outputs": [],
   "source": [
    "labels = ['a', 'b', 'c']\n",
    "sample_list = [10,20,30]\n",
    "               \n",
    "pd.Series(data=sample_list, index=labels)"
   ]
  },
  {
   "cell_type": "markdown",
   "id": "bef29e85",
   "metadata": {},
   "source": [
    "#### 2. By `Numpy Arrays`:"
   ]
  },
  {
   "cell_type": "code",
   "execution_count": null,
   "id": "8475d6a1",
   "metadata": {},
   "outputs": [],
   "source": [
    "labels = ['a', 'b', 'c']\n",
    "numpy_array = np.array([10,20,30])\n",
    "\n",
    "pd.Series(data=numpy_array, index=labels)"
   ]
  },
  {
   "cell_type": "markdown",
   "id": "4c2baa45",
   "metadata": {},
   "source": [
    "#### 3. By `dictionary`:"
   ]
  },
  {
   "cell_type": "code",
   "execution_count": null,
   "id": "0933c515",
   "metadata": {},
   "outputs": [],
   "source": [
    "sample_dict = {'a':10,'b':20,'c':30}\n",
    "pd.Series(sample_dict)"
   ]
  }
 ],
 "metadata": {
  "kernelspec": {
   "display_name": ".venv",
   "language": "python",
   "name": "python3"
  },
  "language_info": {
   "codemirror_mode": {
    "name": "ipython",
    "version": 3
   },
   "file_extension": ".py",
   "mimetype": "text/x-python",
   "name": "python",
   "nbconvert_exporter": "python",
   "pygments_lexer": "ipython3",
   "version": "3.13.5"
  }
 },
 "nbformat": 4,
 "nbformat_minor": 5
}
