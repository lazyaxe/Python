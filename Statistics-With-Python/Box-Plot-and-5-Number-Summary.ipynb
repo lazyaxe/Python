{
 "cells": [
  {
   "cell_type": "code",
   "execution_count": 53,
   "id": "6d296cce",
   "metadata": {},
   "outputs": [],
   "source": [
    "import seaborn as sns\n",
    "import matplotlib.pyplot as plt\n",
    "import numpy as np"
   ]
  },
  {
   "cell_type": "code",
   "execution_count": 54,
   "id": "afaaada6",
   "metadata": {},
   "outputs": [
    {
     "data": {
      "text/plain": [
       "array([  2,   4,   7,  10,  15,  20,  25, 205])"
      ]
     },
     "execution_count": 54,
     "metadata": {},
     "output_type": "execute_result"
    }
   ],
   "source": [
    "data_set=np.array([2, 4, 7, 10, 15, 20, 25, 205])\n",
    "data_set\n"
   ]
  },
  {
   "cell_type": "code",
   "execution_count": 55,
   "id": "24adb286",
   "metadata": {},
   "outputs": [
    {
     "data": {
      "text/plain": [
       "8"
      ]
     },
     "execution_count": 55,
     "metadata": {},
     "output_type": "execute_result"
    }
   ],
   "source": [
    "data_set.__len__()"
   ]
  },
  {
   "cell_type": "code",
   "execution_count": 56,
   "id": "cbca8b00",
   "metadata": {},
   "outputs": [],
   "source": [
    "def find_median(array):\n",
    "    array=sorted(array)\n",
    "    if len(array)==0:\n",
    "        print(\"Empty list or array\")\n",
    "        return\n",
    "    if len(array)%2==0:\n",
    "        from math import ceil\n",
    "        from math import floor\n",
    "        k=ceil((len(array)-1)/2)\n",
    "        l=floor((len(array)-1)/2)\n",
    "        return (array[k]+array[l])/2\n",
    "    elif len(array)%2!=0:\n",
    "        return array[int((len(array)-1)/2)]\n",
    "    "
   ]
  },
  {
   "cell_type": "code",
   "execution_count": 57,
   "id": "f258eb61",
   "metadata": {},
   "outputs": [
    {
     "data": {
      "text/plain": [
       "np.float64(12.5)"
      ]
     },
     "execution_count": 57,
     "metadata": {},
     "output_type": "execute_result"
    }
   ],
   "source": [
    "find_median(data_set)"
   ]
  },
  {
   "cell_type": "code",
   "execution_count": 58,
   "id": "99f59b0b",
   "metadata": {},
   "outputs": [
    {
     "data": {
      "text/plain": [
       "np.float64(12.5)"
      ]
     },
     "execution_count": 58,
     "metadata": {},
     "output_type": "execute_result"
    }
   ],
   "source": [
    "np.median(data_set)"
   ]
  },
  {
   "cell_type": "code",
   "execution_count": 59,
   "id": "a3e48a52",
   "metadata": {},
   "outputs": [
    {
     "data": {
      "text/plain": [
       "np.float64(6.25)"
      ]
     },
     "execution_count": 59,
     "metadata": {},
     "output_type": "execute_result"
    }
   ],
   "source": [
    "quartile_1=np.quantile(a=data_set, q=.25)\n",
    "#or\n",
    "quartile_1=np.percentile(a=data_set, q=25)\n",
    "\n",
    "quartile_1\n"
   ]
  },
  {
   "cell_type": "code",
   "execution_count": 60,
   "id": "90a23765",
   "metadata": {},
   "outputs": [
    {
     "data": {
      "text/plain": [
       "np.float64(12.5)"
      ]
     },
     "execution_count": 60,
     "metadata": {},
     "output_type": "execute_result"
    }
   ],
   "source": [
    "quartile_2=np.quantile(a=data_set, q=.5)\n",
    "quartile_2"
   ]
  },
  {
   "cell_type": "code",
   "execution_count": 61,
   "id": "81a45f63",
   "metadata": {},
   "outputs": [
    {
     "data": {
      "text/plain": [
       "np.float64(21.25)"
      ]
     },
     "execution_count": 61,
     "metadata": {},
     "output_type": "execute_result"
    }
   ],
   "source": [
    "quartile_3=np.quantile(a=data_set, q=.75)\n",
    "quartile_3"
   ]
  },
  {
   "cell_type": "code",
   "execution_count": 62,
   "id": "09547eff",
   "metadata": {},
   "outputs": [
    {
     "data": {
      "text/plain": [
       "np.float64(15.0)"
      ]
     },
     "execution_count": 62,
     "metadata": {},
     "output_type": "execute_result"
    }
   ],
   "source": [
    "IQR=quartile_3-quartile_1#Inner Quantile/Quartile Range\n",
    "IQR"
   ]
  },
  {
   "cell_type": "code",
   "execution_count": 71,
   "id": "8c5a015a",
   "metadata": {},
   "outputs": [],
   "source": [
    "k=1.5\n",
    "lower_fence=quartile_1-(k * IQR)\n",
    "upper_fence=quartile_3+(k*IQR)"
   ]
  },
  {
   "cell_type": "code",
   "execution_count": 72,
   "id": "aa8f01c2",
   "metadata": {},
   "outputs": [
    {
     "data": {
      "text/plain": [
       "np.float64(43.75)"
      ]
     },
     "execution_count": 72,
     "metadata": {},
     "output_type": "execute_result"
    }
   ],
   "source": [
    "upper_fence"
   ]
  },
  {
   "cell_type": "code",
   "execution_count": 77,
   "id": "318b853e",
   "metadata": {},
   "outputs": [],
   "source": [
    "clean_data=[]\n",
    "for element in data_set:\n",
    "    if upper_fence>element>lower_fence:\n",
    "        clean_data.append(element)\n",
    "    else:\n",
    "        continue\n",
    "clean_data=np.array(object=clean_data)"
   ]
  },
  {
   "cell_type": "code",
   "execution_count": null,
   "id": "1ee4a9cc",
   "metadata": {},
   "outputs": [
    {
     "data": {
      "text/plain": [
       "array([ 2,  4,  7, 10, 15, 20, 25])"
      ]
     },
     "execution_count": 97,
     "metadata": {},
     "output_type": "execute_result"
    }
   ],
   "source": [
    "conditon1=(upper_fence>data_set) & (data_set>lower_fence)\n",
    "clean_data=data_set[conditon1]\n",
    "clean_data"
   ]
  },
  {
   "cell_type": "code",
   "execution_count": 103,
   "id": "1f1626f0",
   "metadata": {},
   "outputs": [
    {
     "data": {
      "text/plain": [
       "<Axes: >"
      ]
     },
     "execution_count": 103,
     "metadata": {},
     "output_type": "execute_result"
    },
    {
     "data": {
      "image/png": "[encoded data removed]",
      "text/plain": [
       "<Figure size 640x480 with 1 Axes>"
      ]
     },
     "metadata": {},
     "output_type": "display_data"
    }
   ],
   "source": [
    "sns.boxplot( x=clean_data)"
   ]
  },
  {
   "cell_type": "code",
   "execution_count": 104,
   "id": "f14eda61",
   "metadata": {},
   "outputs": [
    {
     "data": {
      "text/plain": [
       "<Axes: >"
      ]
     },
     "execution_count": 104,
     "metadata": {},
     "output_type": "execute_result"
    },
    {
     "data": {
      "image/png": "[encoded data removed]",
      "text/plain": [
       "<Figure size 640x480 with 1 Axes>"
      ]
     },
     "metadata": {},
     "output_type": "display_data"
    }
   ],
   "source": [
    "sns.boxplot(x=data_set)"
   ]
  }
 ],
 "metadata": {
  "kernelspec": {
   "display_name": ".venv",
   "language": "python",
   "name": "python3"
  },
  "language_info": {
   "codemirror_mode": {
    "name": "ipython",
    "version": 3
   },
   "file_extension": ".py",
   "mimetype": "text/x-python",
   "name": "python",
   "nbconvert_exporter": "python",
   "pygments_lexer": "ipython3",
   "version": "3.13.7"
  }
 },
 "nbformat": 4,
 "nbformat_minor": 5
}
